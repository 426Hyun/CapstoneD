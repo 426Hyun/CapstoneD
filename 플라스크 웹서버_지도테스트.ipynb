{
 "cells": [
  {
   "cell_type": "code",
   "execution_count": null,
   "metadata": {},
   "outputs": [
    {
     "name": "stdout",
     "output_type": "stream",
     "text": [
      " * Serving Flask app \"__main__\" (lazy loading)\n",
      " * Environment: production\n",
      "   WARNING: This is a development server. Do not use it in a production deployment.\n",
      "   Use a production WSGI server instead.\n",
      " * Debug mode: off\n"
     ]
    },
    {
     "name": "stderr",
     "output_type": "stream",
     "text": [
      " * Running on http://127.0.0.1:5000/ (Press CTRL+C to quit)\n",
      "127.0.0.1 - - [13/Dec/2019 12:34:41] \"\u001b[37mGET / HTTP/1.1\u001b[0m\" 200 -\n"
     ]
    }
   ],
   "source": [
    "from flask import Flask\n",
    "\n",
    "app = Flask(__name__)\n",
    "\n",
    "@app.route('/')\n",
    "def index():\n",
    "  return '''<!DOCTYPE HTML><html>\n",
    "  <head>\n",
    "    <meta charset=\"utf-8\">\n",
    "    <title>이미지 지도에 마커 표시하기</title>\n",
    "\n",
    "    </head>\n",
    "    <body>\n",
    "    <!-- 이미지 지도를 표시할 div 입니다 -->\n",
    "    <div id=\"staticMap\" style=\"width:600px;height:350px;left:20%;\"></div>\n",
    "\n",
    "    <script type=\"text/javascript\" src=\"//dapi.kakao.com/v2/maps/sdk.js?appkey=b8e7c31279940fb5b34f09073a0b3363\"></script>\n",
    "    <script>\n",
    "    // 이미지 지도에서 마커가 표시될 위치입니다\n",
    "    var markerPosition  = new kakao.maps.LatLng(33.450701, 126.570667);\n",
    "\n",
    "    // 이미지 지도에 표시할 마커입니다\n",
    "    // 이미지 지도에 표시할 마커는 Object 형태입니다\n",
    "    var marker = {\n",
    "        position: markerPosition\n",
    "    };\n",
    "\n",
    "    var staticMapContainer  = document.getElementById('staticMap'), // 이미지 지도를 표시할 div\n",
    "        staticMapOption = {\n",
    "            center: new kakao.maps.LatLng(33.450701, 126.570667), // 이미지 지도의 중심좌표\n",
    "            level: 3, // 이미지 지도의 확대 레벨\n",
    "            marker: marker // 이미지 지도에 표시할 마커\n",
    "        };\n",
    "\n",
    "    // 이미지 지도를 생성합니다\n",
    "    var staticMap = new kakao.maps.StaticMap(staticMapContainer, staticMapOption);\n",
    "    </script>\n",
    "    <div>\n",
    "    <iframe name=\"merchant\" frameborder=\"0\" width=\"990\" height=\"600\" scrolling=\"no\" src=\"https://www.purmeecard.com/public.do?request=merchantSelect\">\n",
    "    </iframe></div>\n",
    "    </body>\n",
    "</html>'''\n",
    " \n",
    "@app.route('/about')\n",
    "def about():\n",
    "    return 'About 페이지'\n",
    "\n",
    "\n",
    "if __name__ == '__main__':\n",
    "    app.run()\n",
    "\n"
   ]
  }
 ],
 "metadata": {
  "kernelspec": {
   "display_name": "Python 3",
   "language": "python",
   "name": "python3"
  },
  "language_info": {
   "codemirror_mode": {
    "name": "ipython",
    "version": 3
   },
   "file_extension": ".py",
   "mimetype": "text/x-python",
   "name": "python",
   "nbconvert_exporter": "python",
   "pygments_lexer": "ipython3",
   "version": "3.7.3"
  }
 },
 "nbformat": 4,
 "nbformat_minor": 2
}
