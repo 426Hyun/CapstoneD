{
 "cells": [
  {
   "cell_type": "markdown",
   "metadata": {},
   "source": [
    "# pymysql\n",
    "\n",
    "- 파이썬에서 mysql을 컨트롤할수 있도록 도와주는 라이브러리\n",
    "- 파이썬 내부의 데이터를 디비에 적재하도록 도와줌\n",
    "- 디비내부의 자료를 파이썬으로 끌어오도록 도와줌\n",
    "- 자료 적재, 수정, 삭제 명령은 수행한 다음 commit()명령까지 수행해야 반영됨"
   ]
  },
  {
   "cell_type": "code",
   "execution_count": 1,
   "metadata": {},
   "outputs": [],
   "source": [
    "import pymysql\n",
    "import pandas as pd"
   ]
  },
  {
   "cell_type": "code",
   "execution_count": 2,
   "metadata": {},
   "outputs": [],
   "source": [
    "# con 변수에 접속정보 저장, con.cursor()을 받은 cur변수를 매개로 \n",
    "# db에 파이썬 코드를 이용한 명령을 내릴 수 있다.\n",
    "con = pymysql.connect(host='localhost', port=3306, user='py', password='py',\n",
    "                     db='py_practice', charset='utf8mb4')\n",
    "cur = con.cursor()"
   ]
  },
  {
   "cell_type": "code",
   "execution_count": 3,
   "metadata": {},
   "outputs": [
    {
     "data": {
      "text/plain": [
       "10"
      ]
     },
     "execution_count": 3,
     "metadata": {},
     "output_type": "execute_result"
    }
   ],
   "source": [
    "# cur.exexute() 내부에 ;를 제외한 쿼리문을 작성하면 연결한 DB에 명령이 그대로 들어간다.\n",
    "cur.execute('SELECT * FROM memberlist')"
   ]
  },
  {
   "cell_type": "code",
   "execution_count": 4,
   "metadata": {},
   "outputs": [
    {
     "data": {
      "text/plain": [
       "((1, 'a', '우유'),\n",
       " (2, 'a', '요구르트'),\n",
       " (3, 'a', '도시락'),\n",
       " (4, 'a', '과일야채음료'),\n",
       " (5, 'a', '치즈'),\n",
       " (6, 'a', '오뎅'),\n",
       " (7, 'a', '헷반'),\n",
       " (8, 'k', '빵'),\n",
       " (9, 'k', '김밥'),\n",
       " (10, 'k', '요구르트'))"
      ]
     },
     "execution_count": 4,
     "metadata": {},
     "output_type": "execute_result"
    }
   ],
   "source": [
    "# cur.fetchall() 명령문은 select 구문을 실행한 다음에 사용하며, select 구문의 결과를 받아온다.\n",
    "# select 구문은 조회구문이기 때문에 결과물이 존재하며\n",
    "# 이외의 구문은 조회가 아닌 디비에 수정명령을 내리는 구문이기때문에 결과물을 보려고 해도\n",
    "# 유의미한 결과물이 나오지는 않는다.\n",
    "result = cur.fetchall()\n",
    "result"
   ]
  },
  {
   "cell_type": "code",
   "execution_count": 5,
   "metadata": {},
   "outputs": [],
   "source": [
    "# 얻어온 자료를 리스트로 바꿔야 DataFrame으로 변환 가능\n",
    "result = list(result)\n",
    "\n",
    "# 데이터프레임 변환\n",
    "users=pd.DataFrame(result)"
   ]
  },
  {
   "cell_type": "code",
   "execution_count": 6,
   "metadata": {},
   "outputs": [
    {
     "data": {
      "text/html": [
       "<div>\n",
       "<style scoped>\n",
       "    .dataframe tbody tr th:only-of-type {\n",
       "        vertical-align: middle;\n",
       "    }\n",
       "\n",
       "    .dataframe tbody tr th {\n",
       "        vertical-align: top;\n",
       "    }\n",
       "\n",
       "    .dataframe thead th {\n",
       "        text-align: right;\n",
       "    }\n",
       "</style>\n",
       "<table border=\"1\" class=\"dataframe\">\n",
       "  <thead>\n",
       "    <tr style=\"text-align: right;\">\n",
       "      <th></th>\n",
       "      <th>0</th>\n",
       "      <th>1</th>\n",
       "      <th>2</th>\n",
       "    </tr>\n",
       "  </thead>\n",
       "  <tbody>\n",
       "    <tr>\n",
       "      <th>0</th>\n",
       "      <td>1</td>\n",
       "      <td>a</td>\n",
       "      <td>우유</td>\n",
       "    </tr>\n",
       "    <tr>\n",
       "      <th>1</th>\n",
       "      <td>2</td>\n",
       "      <td>a</td>\n",
       "      <td>요구르트</td>\n",
       "    </tr>\n",
       "    <tr>\n",
       "      <th>2</th>\n",
       "      <td>3</td>\n",
       "      <td>a</td>\n",
       "      <td>도시락</td>\n",
       "    </tr>\n",
       "    <tr>\n",
       "      <th>3</th>\n",
       "      <td>4</td>\n",
       "      <td>a</td>\n",
       "      <td>과일야채음료</td>\n",
       "    </tr>\n",
       "    <tr>\n",
       "      <th>4</th>\n",
       "      <td>5</td>\n",
       "      <td>a</td>\n",
       "      <td>치즈</td>\n",
       "    </tr>\n",
       "    <tr>\n",
       "      <th>5</th>\n",
       "      <td>6</td>\n",
       "      <td>a</td>\n",
       "      <td>오뎅</td>\n",
       "    </tr>\n",
       "    <tr>\n",
       "      <th>6</th>\n",
       "      <td>7</td>\n",
       "      <td>a</td>\n",
       "      <td>헷반</td>\n",
       "    </tr>\n",
       "    <tr>\n",
       "      <th>7</th>\n",
       "      <td>8</td>\n",
       "      <td>k</td>\n",
       "      <td>빵</td>\n",
       "    </tr>\n",
       "    <tr>\n",
       "      <th>8</th>\n",
       "      <td>9</td>\n",
       "      <td>k</td>\n",
       "      <td>김밥</td>\n",
       "    </tr>\n",
       "    <tr>\n",
       "      <th>9</th>\n",
       "      <td>10</td>\n",
       "      <td>k</td>\n",
       "      <td>요구르트</td>\n",
       "    </tr>\n",
       "  </tbody>\n",
       "</table>\n",
       "</div>"
      ],
      "text/plain": [
       "    0  1       2\n",
       "0   1  a      우유\n",
       "1   2  a    요구르트\n",
       "2   3  a     도시락\n",
       "3   4  a  과일야채음료\n",
       "4   5  a      치즈\n",
       "5   6  a      오뎅\n",
       "6   7  a      헷반\n",
       "7   8  k       빵\n",
       "8   9  k      김밥\n",
       "9  10  k    요구르트"
      ]
     },
     "execution_count": 6,
     "metadata": {},
     "output_type": "execute_result"
    }
   ],
   "source": [
    "users"
   ]
  },
  {
   "cell_type": "code",
   "execution_count": 10,
   "metadata": {},
   "outputs": [
    {
     "data": {
      "text/plain": [
       "7"
      ]
     },
     "execution_count": 10,
     "metadata": {},
     "output_type": "execute_result"
    }
   ],
   "source": [
    "cur.execute(\"SELECT * FROM memberlist where id ='a'\")"
   ]
  },
  {
   "cell_type": "code",
   "execution_count": 11,
   "metadata": {},
   "outputs": [],
   "source": [
    "result = cur.fetchall()\n",
    "# 얻어온 자료를 리스트로 바꿔야 DataFrame으로 변환 가능\n",
    "result = list(result)\n",
    "\n",
    "# 데이터프레임 변환\n",
    "result=pd.DataFrame(result)"
   ]
  },
  {
   "cell_type": "code",
   "execution_count": 12,
   "metadata": {},
   "outputs": [
    {
     "data": {
      "text/plain": [
       "0        우유\n",
       "1      요구르트\n",
       "2       도시락\n",
       "3    과일야채음료\n",
       "4        치즈\n",
       "5        오뎅\n",
       "6        헷반\n",
       "Name: 2, dtype: object"
      ]
     },
     "execution_count": 12,
     "metadata": {},
     "output_type": "execute_result"
    }
   ],
   "source": [
    "result[2]"
   ]
  },
  {
   "cell_type": "code",
   "execution_count": 13,
   "metadata": {},
   "outputs": [
    {
     "data": {
      "text/plain": [
       "['우유', '요구르트', '도시락', '과일야채음료', '치즈', '오뎅', '헷반']"
      ]
     },
     "execution_count": 13,
     "metadata": {},
     "output_type": "execute_result"
    }
   ],
   "source": [
    "list(result[2])"
   ]
  },
  {
   "cell_type": "code",
   "execution_count": 14,
   "metadata": {},
   "outputs": [],
   "source": [
    "data ={}"
   ]
  },
  {
   "cell_type": "code",
   "execution_count": 15,
   "metadata": {},
   "outputs": [],
   "source": [
    "# 유저 데이터 \n",
    "userdata=['a','k']"
   ]
  },
  {
   "cell_type": "code",
   "execution_count": 17,
   "metadata": {},
   "outputs": [
    {
     "data": {
      "text/plain": [
       "{'a': ['우유', '요구르트', '도시락', '과일야채음료', '치즈', '오뎅', '헷반'],\n",
       " 'k': ['빵', '김밥', '요구르트']}"
      ]
     },
     "execution_count": 17,
     "metadata": {},
     "output_type": "execute_result"
    }
   ],
   "source": [
    "for user in userdata:\n",
    "# cur.execute(\"select * from relist where id ='\"+user+\"'\")\n",
    "    cur.execute(\"select * from memberlist where id ='%s'\" % (user))\n",
    "    result = cur.fetchall()\n",
    "    result = list(result)\n",
    "    result = pd.DataFrame(result)\n",
    "    data[user]=list(result[2])\n",
    "data"
   ]
  },
  {
   "cell_type": "code",
   "execution_count": null,
   "metadata": {},
   "outputs": [],
   "source": []
  }
 ],
 "metadata": {
  "kernelspec": {
   "display_name": "Python 3",
   "language": "python",
   "name": "python3"
  },
  "language_info": {
   "codemirror_mode": {
    "name": "ipython",
    "version": 3
   },
   "file_extension": ".py",
   "mimetype": "text/x-python",
   "name": "python",
   "nbconvert_exporter": "python",
   "pygments_lexer": "ipython3",
   "version": "3.7.3"
  }
 },
 "nbformat": 4,
 "nbformat_minor": 2
}
