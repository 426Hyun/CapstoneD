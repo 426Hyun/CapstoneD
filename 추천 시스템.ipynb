{
 "cells": [
  {
   "cell_type": "markdown",
   "metadata": {},
   "source": [
    "# 추천 시스템 프로그램\n",
    "\n",
    "    - 목표 : 데이터를 입력하고 추천받기 버튼을 누르면 추천해주는 프로그램 제작\n",
    "    - 데이터 : 저장 방식은 현재는 변수에만 저장, 추후에 DB나 외부파일에 저장하는 방식으로 변경\n",
    "    - 최종 목표 : 웹 어플리케이션에 서비스화"
   ]
  },
  {
   "cell_type": "markdown",
   "metadata": {},
   "source": [
    "## 추천 방법 (비효율적 추천방법)\n",
    " #### ㅇ수작업 추천 \n",
    "    - 수작업 추천은 경험에 의거해서 추천하는 방식\n",
    "    - 일일히 추천하기도 귀찮고 추천의 신뢰성이 떨어질 수 있음\n",
    " #### ㅇ인기도 순으로 추천\n",
    "    - 가장 인기있는 순서대로 추천\n",
    "    - 인기있는 것만 고른 사용자에게는 상대적으로 인기없는 요소들만 추천들어갈 가능성 존재"
   ]
  },
  {
   "cell_type": "markdown",
   "metadata": {},
   "source": [
    "## 추천방법 (효율적 추천방법)\n",
    "#### ㅇ유저 기반 추천\n",
    "    - 나랑 비슷한 선택을 한 유저를 찾아서 그 유저가 고른 선택지 중 내가 고르지 않은 선택지를 추천해주는 방식\n",
    "    - 아이템 개수가 적을때 효율적, 선택지가 많아지면 비효율적\n",
    "\n",
    "#### ㅇ아이템 기반 추천\n",
    "    - 내가 고른 아이템과 함께 골라진 아이템을 찾아서 추천\n",
    "    - 선택지가 많을때 가장 효율적인 선택지\n",
    "\n",
    "#### ㅇ코사인 유사도 기반 추천 알고리즘\n",
    "    - 코사인 유사도란 특정 정보와 유사한 정보를 각도로 판단하는 방법.\n",
    "    - 코사인 유사도가 높으면 높을수록 유사한 선택지로 판단 가능하며\n",
    "    - 코사인 유사도가 낮을수록 반대되는 성향을 가진 선택지로 판단할 수 있다."
   ]
  },
  {
   "cell_type": "code",
   "execution_count": 1,
   "metadata": {},
   "outputs": [],
   "source": [
    "# GUI구현을 위한 tkinter 임포트\n",
    "from tkinter import *"
   ]
  },
  {
   "cell_type": "code",
   "execution_count": 2,
   "metadata": {},
   "outputs": [],
   "source": [
    "# 이외의 필요 라이브러리 임포트\n",
    "import math, random\n",
    "from collections import defaultdict, Counter\n",
    "import numpy as np"
   ]
  },
  {
   "cell_type": "code",
   "execution_count": 3,
   "metadata": {},
   "outputs": [],
   "source": [
    "# 윈도우창 만들기\n",
    "root = Tk()"
   ]
  },
  {
   "cell_type": "code",
   "execution_count": 4,
   "metadata": {},
   "outputs": [],
   "source": [
    "# 윈도우창 크기 및 창 제목 바꾸기(창 크기는 .place()를 활용하는 경우만 적용가능!)\n",
    "root.title(\"추천 시스템\")\n",
    "root.configure(width=\"110m\", height=\"80m\")"
   ]
  },
  {
   "cell_type": "code",
   "execution_count": 5,
   "metadata": {},
   "outputs": [],
   "source": [
    "# global 선언을 받을 전역변수들 만들기\n",
    "# 유저번호와 선택한 목록 준비\n",
    "users_interests = {}\n",
    "unique_interests = []\n",
    "\n",
    "# 변수에 명목상 아무 값이나 넣음.\n",
    "select1 = \"\"\n",
    "select2 = \"\"\n",
    "select3 = \"\"\n",
    "regionresult=\"\""
   ]
  },
  {
   "cell_type": "code",
   "execution_count": 6,
   "metadata": {},
   "outputs": [],
   "source": [
    "# 테스트 데이터\n",
    "def set_dummy():\n",
    "    global users_interests, unique_interests\n",
    "    users_interests = {\n",
    "    \"a\":[\"우유\", \"요구르트\", \"도시락\", \"과일야채음료\", \"치즈\", \"오뎅\", \"햇반\"],\n",
    "    \"b\":[\"레토르트류\", \"빵\", \"주먹밥\", \"우유\", \"요구르트\"],\n",
    "    \"c\":[\"반찬류\", \"냉장간편식\", \"두유\", \"샌드위치류\", \"생수\", \"김밥\"],\n",
    "    \"d\":[\"김밥\", \"우유\", \"과일채소\", \"디저트\", \"즉석조리식품\"],\n",
    "    \"e\":[\"반찬류\", \"두부\", \"빵\", \"샐러드\"],\n",
    "    \"f\":[\"떡\", \"요구르트\", \"치즈\", \"김밥\", \"디저트\", \"두유\"],\n",
    "    \"g\":[\"우유\", \"과일야채음료\", \"도시락\", \"주먹밥\"],\n",
    "    \"h\":[\"요구르트\", \"도시락\", \"생수\", \"빵\"],\n",
    "    \"i\":[\"샐러드\", \"햄버거류\", \"김밥\", \"우유\"],\n",
    "    \"j\":[\"과일야채음료\", \"오뎅\", \"주먹밥\", \"즉석조리식품\"],\n",
    "    \"k\":[\"빵\", \"김밥\", \"요구르트\"],\n",
    "    \"l\":[\"도시락\", \"레토르트류\", \"우유\", \"생수\"]\n",
    "    }\n",
    "    set_unique_interests()\n",
    "    L1.delete(0, END)\n",
    "    L2.delete(0, END)\n",
    "    L3.delete(0, END)\n",
    "    idx=0\n",
    "    \n",
    "    for user in users_interests:\n",
    "        L1.insert(idx, user)\n",
    "        idx += 1\n",
    "    idx = 0\n",
    "    \n",
    "    for region in unique_interests:\n",
    "        L2.insert(idx, region)\n",
    "        idx += 1\n",
    "\n"
   ]
  },
  {
   "cell_type": "markdown",
   "metadata": {},
   "source": [
    "### 함수 정리"
   ]
  },
  {
   "cell_type": "code",
   "execution_count": 7,
   "metadata": {},
   "outputs": [],
   "source": [
    "# 사용자가 선택한 요소 전체 목록 출력\n",
    "# sorted는 중복요소는 몇 개던 하나로 치환해 계산\n",
    "def set_unique_interests():\n",
    "    global unique_interests\n",
    "    unique_interests = sorted(list({interest\n",
    "                                 for user_interests in users_interests.values()\n",
    "                                 for interest in user_interests }))"
   ]
  },
  {
   "cell_type": "code",
   "execution_count": 8,
   "metadata": {},
   "outputs": [],
   "source": [
    "#  listbox를 클릭했을때 클릭된 요소를 감지해 변수에 저장\n",
    "# listbox1\n",
    "def onselect1(evt):\n",
    "    global select1\n",
    "    w = evt.widget\n",
    "    index = w.curselection()\n",
    "    value = w.get(index)\n",
    "    select1 = value\n",
    "    select_noselect()\n",
    "    print(select1)\n",
    "    \n",
    "# listbox2\n",
    "def onselect2(evt):\n",
    "    global select2\n",
    "    w = evt.widget\n",
    "    index = w.curselection()\n",
    "    value = w.get(index)\n",
    "    select2 = value\n",
    "    print(select2)\n",
    "\n",
    "# listbox3\n",
    "def onselect3(evt):\n",
    "    global select3\n",
    "    w = evt.widget\n",
    "    index = w.curselection()\n",
    "    value = w.get(index)\n",
    "    select3 = value\n",
    "    print(select3)\n",
    "    \n",
    "\n",
    "    \n",
    "def add_select():\n",
    "    for region in unique_interests:\n",
    "        L2.insert(idx, region)\n",
    "        idx += 1\n",
    "    L3.insert(select2)\n",
    "    select_noselect()\n",
    "    \n",
    "# def delete_select():\n",
    "#     print('test')\n",
    "    \n",
    "# def delete_user():\n",
    "#     print('test')"
   ]
  },
  {
   "cell_type": "code",
   "execution_count": 9,
   "metadata": {},
   "outputs": [],
   "source": [
    "# 코사인 유사도 구하는 함수\n",
    "# 코사인 유사도 측정, 방향성이 가까울수록 같은 성향을 가진 요소로 취급\n",
    "def cosine_similarity(v, w):\n",
    "    return np.dot(v, w) / math.sqrt(np.dot(v, v) * np.dot(w, w))"
   ]
  },
  {
   "cell_type": "code",
   "execution_count": 10,
   "metadata": {},
   "outputs": [],
   "source": [
    "# 유저 베이스 추천\n",
    "# 1. 유저별 선택/미선택 분류 리스트 만들기\n",
    "def make_user_interest_vector(user_interests):\n",
    "    # 아이템 총 갯수로 따졌을때 어떤 유저가 무슨 요소에 관심이 있다고 한 경우\n",
    "    # (1번 유저 a는 [\"우유\", \"요구르트\", \"도시락\", \"과일야채음료\", \"치즈\", \"오뎅\", \"햇반\"]에 관심있음)\n",
    "    # 1로, 그렇지 않다면 0으로 처리\n",
    "    return [1 if interest in user_interests else 0\n",
    "            for interest in unique_interests]\n",
    "\n",
    "# unique_interests[키값] 에 해당하는 요소가 관심사에 있으면 1, 없으면 0인 자료 생성\n",
    "def get_user_interest_matrix():\n",
    "    user_interest_matrix = list(map(make_user_interest_vector, users_interests.values()))\n",
    "    return user_interest_matrix\n",
    "\n",
    "\n",
    "# 최종적으로 이 함수만 호출해도 위쪽 2개가 자동 호출됨!\n",
    "# 코사인 유사도를 통해서 한 아이템이 선택되었을때 다른 아이템이 같이 선택되는 빈도를 통해 연관도 집계\n",
    "def get_user_similarities():\n",
    "    user_similarities = [[cosine_similarity(interest_vector_i, interest_vector_j)\n",
    "                          for interest_vector_j in get_user_interest_matrix()]\n",
    "                         for interest_vector_i in get_user_interest_matrix()]\n",
    "    return user_similarities\n",
    "\n",
    "def most_similar_users_to(user_id):\n",
    "    pairs = [(other_user_id, similarity)                      # 유사도가 \n",
    "             for other_user_id, similarity in                 # 0이 아니면 일단\n",
    "                enumerate(get_user_similarities()[user_id])         # 분류 대상으로 삼는\n",
    "             if user_id != other_user_id and similarity > 0]  # 함수\n",
    "\n",
    "    return sorted(pairs,                                      # 분류가 된 함수를 대상으로\n",
    "                  key=lambda pair: pair[1],                   # 유사도가 높은것부터\n",
    "                  reverse=True)                               # 정렬해줌\n",
    "\n",
    "\n",
    "# 모든 유사도를 더했을때 가장 높은 유사도 총합을 갖는 유저의 자료를 추천해주는 함수\n",
    "# include_current_interests 파라미터가 True인 경우는 이미 관심사인 것들까지 유사도를 더하는데 활용함.\n",
    "def user_based_suggestions(include_current_interests=False):\n",
    "    # 요소별 유사도 총합 구하기\n",
    "    global regionresult\n",
    "    suggestions = defaultdict(float)\n",
    "    user_idx = list(users_interests).index(select1)\n",
    "    for other_user_id, similarity in most_similar_users_to(user_idx):\n",
    "        for interest in users_interests[list(users_interests)[other_user_id]]:\n",
    "            suggestions[interest] += similarity\n",
    "\n",
    "    # 정렬시킨 리스트로 바꿈\n",
    "    suggestions = sorted(suggestions.items(),\n",
    "                         key=lambda pair: pair[1],\n",
    "                         reverse=True)\n",
    "\n",
    "    # 이미 관심사로 표시한것은 제외\n",
    "    if include_current_interests:\n",
    "        regionresult = suggestions\n",
    "        print(regionresult)\n",
    "    else:\n",
    "        regionresult = [(suggestion, weight)\n",
    "                for suggestion, weight in suggestions\n",
    "                if suggestion not in users_interests[select1]]\n",
    "        print(regionresult)\n",
    "        "
   ]
  },
  {
   "cell_type": "code",
   "execution_count": 11,
   "metadata": {},
   "outputs": [],
   "source": [
    "# 아이템 베이스 추천\n",
    "# 아이템 기반(유저가 선택한 아이템과 비슷한 아이템 추천)\n",
    "#\n",
    "\n",
    "# 하나의 아이템에 대해 관심을 표명한 사용자는 1로, 그렇지 않은 사용자는 0으로 표시\n",
    "# [0, 0, 0, 0, 0, 1, 0, 0, 0, 0, 0, 0, 0, 0, 0]는 0번 자료가 '과일채소'이므로 5번유저가 이 키워드에 관심을 표명했음을 나타냄\n",
    "def get_interest_user_matrix():\n",
    "    interest_user_matrix = [[user_interest_vector[j]\n",
    "                             for user_interest_vector in get_user_interest_matrix()]\n",
    "                            for j, _ in enumerate(unique_interests)]\n",
    "    return interest_user_matrix\n",
    "\n",
    "\n",
    "# 아이템 간 코사인 유사도 적용. 이 아이템에 관심있는 사람이 나머지 아이템에도 관심이 있는가 없는가\n",
    "def get_interest_similarities():\n",
    "    interest_similarities = [[cosine_similarity(user_vector_i, user_vector_j)\n",
    "                              for user_vector_j in get_interest_user_matrix()]\n",
    "                             for user_vector_i in get_interest_user_matrix()]\n",
    "    return interest_similarities\n",
    "\n",
    "# 특정 아이템을 선택하면 그 아이템과 함께 가장 많이 선택된 다음 아이템 선택\n",
    "def most_similar_interests_to(interest_id):\n",
    "    similarities = get_interest_similarities()[interest_id]\n",
    "    pairs = [(unique_interests[other_interest_id], similarity)\n",
    "             for other_interest_id, similarity in enumerate(similarities)\n",
    "             if interest_id != other_interest_id and similarity > 0]\n",
    "    return sorted(pairs,\n",
    "                  key=lambda pair: pair[1],\n",
    "                  reverse=True)\n",
    "\n",
    "\n",
    "# 역시 비슷한 관심사를 가진것들끼리 더함\n",
    "def item_based_suggestions(include_current_interests=False):\n",
    "    suggestions = defaultdict(float)\n",
    "    user_idx = list(users_interests).index(select1)\n",
    "    user_interest_vector = get_user_interest_matrix()[user_idx]\n",
    "    for interest_id, is_interested in enumerate(user_interest_vector):\n",
    "        if is_interested == 1:\n",
    "            similar_interests = most_similar_interests_to(interest_id)\n",
    "            for interest, similarity in similar_interests:\n",
    "                suggestions[interest] += similarity\n",
    "\n",
    "    # 가중치에 따라 순서대로 정렬\n",
    "    suggestions = sorted(suggestions.items(),\n",
    "                         key=lambda pair: pair[1],\n",
    "                         reverse=True)\n",
    "    \n",
    "    # 이미 관심사로 설정한 요소는 역시 집계에서 제외\n",
    "    if include_current_interests:\n",
    "        regionresult = suggestions\n",
    "        print(regionresult)\n",
    "        \n",
    "    else:\n",
    "        regionresult = [(suggestion, weight)\n",
    "                for suggestion, weight in suggestions\n",
    "                if suggestion not in users_interests[select1]]\n",
    "        print(regionresult)\n"
   ]
  },
  {
   "cell_type": "code",
   "execution_count": 12,
   "metadata": {},
   "outputs": [],
   "source": [
    "# 특정 유저 클릭시 그 유저가 선택한 목록은 L3(선택한 목록)로, 선택하지 않은것만 L2(예비선택지)에 남겨두는 로직\n",
    "def select_noselect():\n",
    "    l2idx = 0\n",
    "    l3idx = 0\n",
    "    L2.delete(0, END)\n",
    "    L3.delete(0, END)\n",
    "    for region in unique_interests:\n",
    "        if region in users_interests[select1]:\n",
    "            L3.insert(l3idx, region)\n",
    "            l3idx += 1\n",
    "        else:\n",
    "            L2.insert(l2idx, region)\n",
    "            l2idx += 1"
   ]
  },
  {
   "cell_type": "code",
   "execution_count": 13,
   "metadata": {},
   "outputs": [],
   "source": [
    "# # 유저를 추가하는 로직(있는 유저 추가시 유저 데이터 초기화)\n",
    "# def insert_user():\n",
    "#     username = E1.get()\n",
    "#     users_interests[username] = []\n",
    "#     L1.delete(0, END)\n",
    "#     idx=0\n",
    "#     for user in users_interests:\n",
    "#         L1.insert(idx, user)\n",
    "#         idx += 1\n",
    "    "
   ]
  },
  {
   "cell_type": "markdown",
   "metadata": {},
   "source": [
    "### 창부품 정리"
   ]
  },
  {
   "cell_type": "code",
   "execution_count": 14,
   "metadata": {},
   "outputs": [],
   "source": [
    "# 버튼 0 >> 데이터 버튼\n",
    "Bt0 = Button(root, text=\"데이터 불러오기\", command=set_dummy)\n",
    "Bt0.place(x = 10, y=10, width=100, height=30)\n",
    "\n",
    "# 버튼 1 >> 유저베이스 결과 얻기\n",
    "Bt1 = Button(root, text=\"유저기반 추천 받기\", command=user_based_suggestions)\n",
    "Bt1.place(x=10, y=260, width=120, height=30)\n",
    "# 버튼 2 >> 아이템베이스 결과 얻기\n",
    "Bt2 = Button(root, text=\"아이템기반 추천 받기\", command=item_based_suggestions)\n",
    "Bt2.place(x=150, y=260, width=120, height=30)\n",
    "\n",
    "# # 버튼 4 >> 아이템 등록 버튼\n",
    "# Bt4 = Button(root, text=\">>\", command=add_select)\n",
    "# Bt4.place(x=250, y=130, width=40, height=30)\n",
    "# # 버튼 5 >> 아이템 삭제 버튼\n",
    "# Bt5 = Button(root, text=\"<<\", command=delete_select)\n",
    "# Bt5.place(x=250, y=200, width=40, height=30)\n",
    "\n",
    "# # 버튼 3 >> 유저 정보 추가 버튼\n",
    "# Bt3 = Button(root, text=\"유저 추가하기\", command=insert_user)\n",
    "# Bt3.place(x=150, y=300, width=120, height=30)\n",
    "# # 버튼 6 >> 유저 정보 삭제 버튼\n",
    "# Bt6 = Button(root, text=\"유저 삭제하기\", command=delete_user)\n",
    "# Bt6.place(x=290, y=300, width=120, height=30)"
   ]
  },
  {
   "cell_type": "code",
   "execution_count": 15,
   "metadata": {},
   "outputs": [
    {
     "data": {
      "text/plain": [
       "'2402010718152onselect3'"
      ]
     },
     "execution_count": 15,
     "metadata": {},
     "output_type": "execute_result"
    }
   ],
   "source": [
    "# 리스트박스1 >> 유저목록 보여주기\n",
    "L1 = Listbox(root)\n",
    "\n",
    "# 버튼클릭 감지 \n",
    "L1.bind('<<ListboxSelect>>', onselect1)\n",
    "L1.place(x=10, y=100, width=100, height=150)\n",
    "\n",
    "# 리스트박스2 >> 아이템 목록 보여주기\n",
    "L2 = Listbox(root)\n",
    "L2.place(x=160, y=100, width=100, height=150)\n",
    "\n",
    "# 버튼클릭 감지 \n",
    "L2.bind('<<ListboxSelect>>', onselect2)\n",
    "\n",
    "\n",
    "# 리스트박스3 >> 선택된 아이템 보여주기\n",
    "L3 = Listbox(root)\n",
    "L3.place(x=300, y=100, width=100, height=150)\n",
    "\n",
    "# # 리스트박스 4 >> 추천 아이템 결과 보여주기\n",
    "# L4=Listbox(root)\n",
    "# L4.place(x=10, y= 360, width = 390, height= 300)\n",
    "\n",
    "# 버튼클릭 감지\n",
    "L3.bind('<<ListboxSelect>>', onselect3)"
   ]
  },
  {
   "cell_type": "code",
   "execution_count": 16,
   "metadata": {},
   "outputs": [],
   "source": [
    "# # 엔트리1 >> 새 유저 추가시 사용\n",
    "# E1 = Entry(root)\n",
    "# E1.place(x=10, y=300, width=120, height=30)"
   ]
  },
  {
   "cell_type": "code",
   "execution_count": 17,
   "metadata": {},
   "outputs": [],
   "source": [
    "# 레이블 1 >> 유저목록 리스트박스 위에\n",
    "Lb1 = Label(root, text=\"등록유저목록\")\n",
    "Lb1.place(x=10, y=70, width=100, height=30)\n",
    "\n",
    "# 레이블 2 >> 아이템 목록 리스트 위에\n",
    "Lb2 = Label(root, text=\"아이템 목록\")\n",
    "Lb2.place(x=150, y=70, width=100, height=30)\n",
    "\n",
    "# 레이블 3 >> 선택된 아이템분류 보여주기\n",
    "Lb3 = Label(root, text=\"선택아이템목록\")\n",
    "Lb3.place(x=300, y=70, width=100, height=30)\n",
    "\n",
    "# # 레이블 4 >> 결과창 보여주기\n",
    "# Lb4 = Label(root, text=\"추천아이템목록\")\n",
    "# # E1.place(x=10, y=300, width=120, height=30)\n",
    "# Lb4.place(x=150, y=300, width=100, height=50)\n",
    "\n",
    "# # 레이블 5 >> 추천 아이템 결과창 보여주기\n",
    "# Lb5 = Label(root, text=)\n",
    "# Lb5.place(x=10, y=330, width=100, height=150)\n",
    "\n",
    "# # 레이블 5 >> 추가\n",
    "# Lb5 = Label(root, text=\"추가\")\n",
    "# Lb5.place(x=245, y=90, width=50, height=50)\n",
    "# # 레이블 6 >> 삭제\n",
    "# Lb6 = Label(root, text=\"삭제\")\n",
    "# Lb6.place(x=245, y=160, width=50, height=50)"
   ]
  },
  {
   "cell_type": "code",
   "execution_count": 18,
   "metadata": {},
   "outputs": [
    {
     "name": "stdout",
     "output_type": "stream",
     "text": [
      "a\n",
      "과일채소\n"
     ]
    },
    {
     "name": "stderr",
     "output_type": "stream",
     "text": [
      "Exception in Tkinter callback\n",
      "Traceback (most recent call last):\n",
      "  File \"C:\\ProgramData\\Anaconda3\\lib\\tkinter\\__init__.py\", line 1705, in __call__\n",
      "    return self.func(*args)\n",
      "  File \"<ipython-input-8-e428b5afd488>\", line 7, in onselect1\n",
      "    value = w.get(index)\n",
      "  File \"C:\\ProgramData\\Anaconda3\\lib\\tkinter\\__init__.py\", line 2798, in get\n",
      "    return self.tk.call(self._w, 'get', first)\n",
      "_tkinter.TclError: bad listbox index \"\": must be active, anchor, end, @x,y, or a number\n"
     ]
    },
    {
     "name": "stdout",
     "output_type": "stream",
     "text": [
      "a\n"
     ]
    },
    {
     "name": "stderr",
     "output_type": "stream",
     "text": [
      "Exception in Tkinter callback\n",
      "Traceback (most recent call last):\n",
      "  File \"C:\\ProgramData\\Anaconda3\\lib\\tkinter\\__init__.py\", line 1705, in __call__\n",
      "    return self.func(*args)\n",
      "  File \"<ipython-input-8-e428b5afd488>\", line 17, in onselect2\n",
      "    value = w.get(index)\n",
      "  File \"C:\\ProgramData\\Anaconda3\\lib\\tkinter\\__init__.py\", line 2798, in get\n",
      "    return self.tk.call(self._w, 'get', first)\n",
      "_tkinter.TclError: bad listbox index \"\": must be active, anchor, end, @x,y, or a number\n"
     ]
    },
    {
     "name": "stdout",
     "output_type": "stream",
     "text": [
      "[('주먹밥', 1.2829728844144745), ('빵', 0.9342440651366262), ('김밥', 0.8848376776104931), ('생수', 0.7559289460184544), ('레토르트류', 0.7160261749006338), ('즉석조리식품', 0.5469953239549306), ('디저트', 0.47763755086988713), ('떡', 0.3086066999241838), ('두유', 0.3086066999241838), ('샐러드', 0.1889822365046136), ('햄버거류', 0.1889822365046136), ('과일채소', 0.1690308509457033)]\n",
      "[('주먹밥', 2.0931935022635355), ('레토르트류', 1.2471314257997377), ('즉석조리식품', 1.196923425058676), ('떡', 1.1543203766865053), ('빵', 1.1249445384818684), ('디저트', 1.1049029006116509), ('김밥', 1.0813761376869486), ('생수', 1.0712514193323028), ('두유', 0.816227766016838), ('과일채소', 0.4082482904638631), ('햄버거류', 0.4082482904638631), ('샐러드', 0.2886751345948129)]\n",
      "c\n",
      "[('요구르트', 0.7731597389607807), ('빵', 0.6439505508593789), ('우유', 0.5908224762989185), ('디저트', 0.5159075191683886), ('샐러드', 0.4082482904638631), ('도시락', 0.4082482904638631), ('떡', 0.3333333333333333), ('치즈', 0.3333333333333333), ('두부', 0.20412414523193154), ('햄버거류', 0.20412414523193154), ('레토르트류', 0.20412414523193154), ('과일채소', 0.18257418583505536), ('즉석조리식품', 0.18257418583505536)]\n",
      "[('떡', 1.1543203766865053), ('디저트', 1.132455532033676), ('요구르트', 0.974426655763999), ('빵', 0.8658353229380655), ('샐러드', 0.816227766016838), ('치즈', 0.816227766016838), ('두부', 0.7071067811865475), ('우유', 0.6008506320656266), ('도시락', 0.5773502691896258), ('과일채소', 0.4472135954999579), ('햄버거류', 0.4472135954999579), ('레토르트류', 0.4082482904638631), ('즉석조리식품', 0.31622776601683794)]\n"
     ]
    }
   ],
   "source": [
    "root.mainloop()"
   ]
  },
  {
   "cell_type": "code",
   "execution_count": null,
   "metadata": {},
   "outputs": [],
   "source": []
  }
 ],
 "metadata": {
  "kernelspec": {
   "display_name": "Python 3",
   "language": "python",
   "name": "python3"
  },
  "language_info": {
   "codemirror_mode": {
    "name": "ipython",
    "version": 3
   },
   "file_extension": ".py",
   "mimetype": "text/x-python",
   "name": "python",
   "nbconvert_exporter": "python",
   "pygments_lexer": "ipython3",
   "version": "3.7.3"
  }
 },
 "nbformat": 4,
 "nbformat_minor": 2
}
